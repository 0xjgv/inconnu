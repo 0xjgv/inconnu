{
 "cells": [
  {
   "cell_type": "code",
   "execution_count": 1,
   "metadata": {},
   "outputs": [],
   "source": [
    "from inconnu import Inconnu\n",
    "from inconnu.config import Config\n",
    "\n",
    "inconnu = Inconnu(language=\"de\", config=Config(max_text_length=1000))"
   ]
  },
  {
   "cell_type": "code",
   "execution_count": 3,
   "metadata": {},
   "outputs": [
    {
     "name": "stdout",
     "output_type": "stream",
     "text": [
      "Processing text (deanonymize=True): 433 characters\n",
      "Processing time: 11.09 ms\n",
      "{'[EMAIL_0]': 'max.mustermann@example.com', '[IBAN_0]': 'DE02120300000000202051', '[ORG_0]': 'DEUTSCHE KREDITBANK BERLIN\\nIBAN', '[PERSON_0]': 'Max Mustermann', '[MISC_0]': 'SEPA-Bankverbindung'}\n"
     ]
    }
   ],
   "source": [
    "email_text = \"\"\"\n",
    "Guten Tag!\n",
    "\n",
    "ich möchte meine SEPA-Bankverbindung für zukünftige Zahlungen für meinen Vertrag mit der Nummer 021948 aktualisieren. Bitte aktualisieren Sie mein Konto mit den folgenden Informationen:\n",
    "\n",
    "Name des Kontoinhabers: Max Mustermann\n",
    "Bank: DEUTSCHE KREDITBANK BERLIN\n",
    "IBAN: DE02120300000000202051\n",
    "\n",
    "Antworten Sie auf diese E-Mail mit dem Wort „erledigt“, wenn Sie die Bankverbindung aktualisiert haben.\n",
    "max.mustermann@example.com\n",
    "\"\"\"\n",
    "\n",
    "result = inconnu(text=email_text)\n",
    "print(result.entity_map)\n",
    "# # Extract nouns and proper nouns\n",
    "# tokens = [token for token in tokens if token.pos_ in (\"NOUN\", \"PROPN\", \"NUM\", \"ADJ\")]\n",
    "\n",
    "# print(\"Nouns and Proper Nouns in the email:\")\n",
    "# for token in tokens:\n",
    "#     print(token.text, token.pos_)"
   ]
  },
  {
   "cell_type": "code",
   "execution_count": null,
   "metadata": {},
   "outputs": [],
   "source": []
  }
 ],
 "metadata": {
  "kernelspec": {
   "display_name": ".venv",
   "language": "python",
   "name": "python3"
  },
  "language_info": {
   "codemirror_mode": {
    "name": "ipython",
    "version": 3
   },
   "file_extension": ".py",
   "mimetype": "text/x-python",
   "name": "python",
   "nbconvert_exporter": "python",
   "pygments_lexer": "ipython3",
   "version": "3.11.10"
  }
 },
 "nbformat": 4,
 "nbformat_minor": 2
}
