{
 "cells": [
  {
   "cell_type": "code",
   "execution_count": 8,
   "metadata": {},
   "outputs": [],
   "source": [
    "from inconnu import Inconnu\n",
    "from inconnu.config import Config\n",
    "\n",
    "config = Config(max_text_length=1000, data_retention_days=30)\n",
    "\n",
    "inconnu_de = Inconnu(config=config, language=\"de\")"
   ]
  },
  {
   "cell_type": "code",
   "execution_count": null,
   "metadata": {},
   "outputs": [
    {
     "name": "stdout",
     "output_type": "stream",
     "text": [
      "Processing text (deanonymize=True): 433 characters\n",
      "Processing time: 28.70 ms\n",
      "{'[EMAIL_0]': 'max.mustermann@example.com', '[IBAN_0]': 'DE02120300000000202051', '[ORG_0]': 'IBAN', '[ORG_1]': 'DEUTSCHE KREDITBANK BERLIN', '[PERSON_0]': 'Max Mustermann', '[PHONE_NUMBER_0]': '021948', '[MISC_0]': 'SEPA-Bankverbindung'}\n"
     ]
    }
   ],
   "source": [
    "email_text = \"\"\"\n",
    "Guten Tag!\n",
    "\n",
    "ich möchte meine SEPA-Bankverbindung für zukünftige Zahlungen für meinen Vertrag mit der Nummer 021948 aktualisieren. Bitte aktualisieren Sie mein Konto mit den folgenden Informationen:\n",
    "\n",
    "Name des Kontoinhabers: Max Mustermann\n",
    "Bank: DEUTSCHE KREDITBANK BERLIN\n",
    "IBAN: DE02120300000000202051\n",
    "\n",
    "Antworten Sie auf diese E-Mail mit dem Wort „erledigt“, wenn Sie die Bankverbindung aktualisiert haben.\n",
    "max.mustermann@example.com\n",
    "\"\"\"\n",
    "\n",
    "result = inconnu_de(text=email_text)"
   ]
  },
  {
   "cell_type": "code",
   "execution_count": 10,
   "metadata": {},
   "outputs": [
    {
     "name": "stdout",
     "output_type": "stream",
     "text": [
      "\n",
      "Guten Tag!\n",
      "\n",
      "ich möchte meine [MISC_0] für zukünftige Zahlungen für meinen Vertrag mit der Nummer [PHONE_NUMBER_0] aktualisieren. Bitte aktualisieren Sie mein Konto mit den folgenden Informationen:\n",
      "\n",
      "Name des Kontoinhabers: [PERSON_0]\n",
      "Bank: [ORG_1]\n",
      "[ORG_0]: [IBAN_0]\n",
      "\n",
      "Antworten Sie auf diese E-Mail mit dem Wort „erledigt“, wenn Sie die Bankverbindung aktualisiert haben.\n",
      "[EMAIL_0]\n",
      "\n"
     ]
    }
   ],
   "source": [
    "print(result.redacted_text)"
   ]
  },
  {
   "cell_type": "code",
   "execution_count": 11,
   "metadata": {},
   "outputs": [
    {
     "data": {
      "text/plain": [
       "{'[EMAIL_0]': 'max.mustermann@example.com',\n",
       " '[IBAN_0]': 'DE02120300000000202051',\n",
       " '[ORG_0]': 'IBAN',\n",
       " '[ORG_1]': 'DEUTSCHE KREDITBANK BERLIN',\n",
       " '[PERSON_0]': 'Max Mustermann',\n",
       " '[PHONE_NUMBER_0]': '021948',\n",
       " '[MISC_0]': 'SEPA-Bankverbindung'}"
      ]
     },
     "execution_count": 11,
     "metadata": {},
     "output_type": "execute_result"
    }
   ],
   "source": [
    "result.entity_map"
   ]
  },
  {
   "cell_type": "code",
   "execution_count": null,
   "metadata": {},
   "outputs": [],
   "source": []
  }
 ],
 "metadata": {
  "kernelspec": {
   "display_name": ".venv",
   "language": "python",
   "name": "python3"
  },
  "language_info": {
   "codemirror_mode": {
    "name": "ipython",
    "version": 3
   },
   "file_extension": ".py",
   "mimetype": "text/x-python",
   "name": "python",
   "nbconvert_exporter": "python",
   "pygments_lexer": "ipython3",
   "version": "3.13.5"
  }
 },
 "nbformat": 4,
 "nbformat_minor": 2
}
